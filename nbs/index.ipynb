{
 "cells": [
  {
   "cell_type": "markdown",
   "metadata": {},
   "source": [
    "---\n",
    "author: \n",
    "  - name: Matthew Reda\n",
    "    email: redam94@gmail.com\n",
    "license: \"CC BY\"\n",
    "copyright: \n",
    "  holder: Matthew Reda\n",
    "  year: 2024\n",
    "citation: true\n",
    "---"
   ]
  },
  {
   "cell_type": "code",
   "execution_count": null,
   "metadata": {},
   "outputs": [],
   "source": [
    "#| hide\n",
    "from common_regression_issues import *"
   ]
  },
  {
   "cell_type": "markdown",
   "metadata": {},
   "source": [
    "[![](https://github.com/redam94/common_regression_issues/actions/workflows/test.yaml/badge.svg)](https://github.com/redam94/common_regression_issues/actions/workflows/test.yaml)"
   ]
  },
  {
   "cell_type": "markdown",
   "metadata": {},
   "source": [
    "# Common Regression Issues\n",
    "\n",
    "> This repository serves more as a knowledge repository than a traditional codebase. Hopefully, you’ll find some of these tips insightful, along with a selection of helpful utility functions for generating synthetic data."
   ]
  },
  {
   "cell_type": "markdown",
   "metadata": {},
   "source": [
    "Please hop on over to the [site][pages], there I cover several topics that I've encountered while modelling. Please feel free to raise an [issue][issues] if there is a topic that you think should be discussed, or if there are any changes/clarifications/errors you find on the [site][pages].\n",
    "\n",
    "[pages]: https://redam94.github.io/common_regression_issues\n",
    "[issues]: https://github.com/redam94/common_regression_issues/issues"
   ]
  },
  {
   "cell_type": "markdown",
   "metadata": {},
   "source": [
    "## [Sampling Error][sampling_error]\n",
    "\n",
    "This section delves into the challenges posed by inaccuracies in independent variables within regression models. It highlights how such errors can lead to biased and inconsistent parameter estimates, even when sampling designs are unbiased and respondent answers are accurate. Through practical examples, like surveys assessing brand advertisement recall and its effect on sales, the section demonstrates the potential distortions sampling errors can introduce into regression outcomes. To address these issues, it explores strategies such as employing latent variable models and carefully considering the observation process to mitigate the negative impacts of sampling errors on regression analyses.\n",
    "\n",
    "## [Multicollinearity][multicollinearity]\n",
    "\n",
    "This section examines the challenges posed by multicollinearity in regression models, particularly from a causal perspective. It utilizes Directed Acyclic Graphs (DAGs) to illustrate how multicollinearity can complicate the estimation of causal effects, using examples like assessing the impact of paid search impressions on sales. The section emphasizes the importance of identifying and adjusting for confounding variables to obtain unbiased estimates, highlighting that high Variance Inflation Factors (VIFs) can inflate standard errors and reduce estimate precision. It also discusses strategies to mitigate multicollinearity’s impact, such as focusing on relevant adjustment variables and refining causal models in collaboration with experts and stakeholders.\n",
    "\n",
    "[sampling_error]: https://redam94.github.io/common_regression_issues/sampling_error.html\n",
    "[multicollinearity]: https://redam94.github.io/common_regression_issues/multicollinearity.html"
   ]
  },
  {
   "cell_type": "markdown",
   "metadata": {},
   "source": []
  }
 ],
 "metadata": {
  "kernelspec": {
   "display_name": "python3",
   "language": "python",
   "name": "python3"
  }
 },
 "nbformat": 4,
 "nbformat_minor": 4
}
