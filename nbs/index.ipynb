{
 "cells": [
  {
   "cell_type": "code",
   "execution_count": null,
   "metadata": {},
   "outputs": [],
   "source": [
    "#| hide\n",
    "from common_regression_issues import *"
   ]
  },
  {
   "cell_type": "markdown",
   "metadata": {},
   "source": [
    "[![](https://github.com/redam94/common_regression_issues/actions/workflows/test.yaml/badge.svg)](https://github.com/redam94/common_regression_issues/actions/workflows/test.yaml)"
   ]
  },
  {
   "cell_type": "markdown",
   "metadata": {},
   "source": [
    "# Common Regression Issues\n",
    "\n",
    "> This repository serves more as a knowledge repository than a traditional codebase. Hopefully, you’ll find some of these tips insightful, along with a selection of helpful utility functions for generating synthetic data."
   ]
  },
  {
   "cell_type": "markdown",
   "metadata": {},
   "source": [
    "Please hop on over to the [site][pages], there I cover several topics that I've encountered while modelling. Please feel free to raise an [issue][issues] if there is a topic that you think should be discussed, or if there are any changes/clarifications/errors you find on the [site][pages].\n",
    "\n",
    "[pages]: https://redam94.github.io/common_regression_issues\n",
    "[issues]: https://github.com/redam94/common_regression_issues/issues"
   ]
  },
  {
   "cell_type": "markdown",
   "metadata": {},
   "source": [
    "## [Measurement Error][measurement_error]\n",
    "## [Multicollinearity][multicollinearity]\n",
    "[measurement_error]: https://redam94.github.io/common_regression_issues/measurement_error.html\n",
    "[multicollinearity]: https://redam94.github.io/common_regression_issues/multicollinearity.html"
   ]
  },
  {
   "cell_type": "markdown",
   "metadata": {},
   "source": []
  },
  {
   "cell_type": "markdown",
   "metadata": {},
   "source": []
  }
 ],
 "metadata": {
  "kernelspec": {
   "display_name": "python3",
   "language": "python",
   "name": "python3"
  }
 },
 "nbformat": 4,
 "nbformat_minor": 4
}
